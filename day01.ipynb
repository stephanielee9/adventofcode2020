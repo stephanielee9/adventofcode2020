{
 "cells": [
  {
   "cell_type": "code",
   "execution_count": null,
   "metadata": {},
   "outputs": [],
   "source": []
  },
  {
   "cell_type": "code",
   "execution_count": null,
   "metadata": {},
   "outputs": [],
   "source": [
    "#!/usr/bin/env python3\n",
    "\"\"\"\n",
    "Solution to Day 1 of Advent of Code\n",
    "\"\"\"\n",
    "\n",
    "__author__ = \"Stephanie\"\n",
    "__email__ = \"stephanielee@uchicago.edu\"\n",
    "\n",
    "def main():\n",
    "    with open('day01input.txt', 'r') as f:\n",
    "        entries = f.read().split()\n",
    "\n",
    "    # print(entries)\n",
    "    entries_num = list(map(lambda x:int(x), entries))\n",
    "    # print(entries_num)\n",
    "\n",
    "    sum_2020 = []\n",
    "    for num1 in entries_num:\n",
    "        for num2 in entries_num:\n",
    "            if num1 + num2 == 2020:\n",
    "                if num1 not in sum_2020 and num2 not in sum_2020:\n",
    "                    sum_2020.append(num1)\n",
    "                    sum_2020.append(num2)\n",
    "\n",
    "    # print(sum_2020)\n",
    "    product_2020 = sum_2020[0]*sum_2020[1]\n",
    "    print(product_2020)\n",
    "\n",
    "    sum_2020 = []\n",
    "    for num1 in entries_num:\n",
    "        for num2 in entries_num:\n",
    "            for num3 in entries_num:\n",
    "                if num1 + num2 + num3 == 2020:\n",
    "                    if num1 not in sum_2020 and num2 not in sum_2020 and num3 not in sum_2020:\n",
    "                        sum_2020.append(num1)\n",
    "                        sum_2020.append(num2)\n",
    "                        sum_2020.append(num3)\n",
    "\n",
    "    print(sum_2020)\n",
    "    product_2020 = sum_2020[0]*sum_2020[1]*sum_2020[2]\n",
    "    print(product_2020)\n",
    "\n",
    "# calling main() function\n",
    "if __name__ == \"__main__\":\n",
    "    main()"
   ]
  }
 ],
 "metadata": {
  "language_info": {
   "name": "plaintext"
  },
  "orig_nbformat": 4
 },
 "nbformat": 4,
 "nbformat_minor": 2
}
